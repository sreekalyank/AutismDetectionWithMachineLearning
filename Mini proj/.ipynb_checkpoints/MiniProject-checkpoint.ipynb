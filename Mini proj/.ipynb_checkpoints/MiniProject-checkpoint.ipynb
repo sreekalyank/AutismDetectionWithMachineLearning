{
 "cells": [
  {
   "cell_type": "code",
   "execution_count": 4,
   "id": "18e75150-57ac-4a1c-8724-d365ed7a6313",
   "metadata": {},
   "outputs": [
    {
     "name": "stdout",
     "output_type": "stream",
     "text": [
      "1.0\n"
     ]
    }
   ],
   "source": [
    "import pandas as pd\n",
    "import numpy as np\n",
    "from sklearn.preprocessing import OneHotEncoder\n",
    "from imblearn.over_sampling import RandomOverSampler\n",
    "from sklearn.preprocessing import QuantileTransformer\n",
    "from sklearn.ensemble import AdaBoostClassifier\n",
    "from sklearn.model_selection import cross_val_score\n",
    "from sklearn.model_selection import train_test_split\n",
    "from sklearn.ensemble import RandomForestClassifier\n",
    "from sklearn.metrics import accuracy_score\n",
    "from sklearn.tree import DecisionTreeClassifier\n",
    "from sklearn.model_selection import cross_val_score,KFold\n",
    "from sklearn.pipeline import make_pipeline\n",
    "\n",
    "\n",
    "\n",
    "df=pd.read_csv(\"D:\\\\Sem 6\\\\Mini Project\\\\archive\\\\Toddler Autism dataset July 2018.csv\")\n",
    "df.drop(df.columns[0], axis=1, inplace=True)\n",
    "features = df.iloc[:, :-1]\n",
    "labels = df.iloc[:, -1]\n",
    "\n",
    "# selecting categorical featuers\n",
    "category_features=features.iloc[:, [12,13,14,15,16]]\n",
    "\n",
    "# dropping cateogorical columns\n",
    "features = features.iloc[:, :-1]\n",
    "features = features.iloc[:, :-1]\n",
    "features = features.iloc[:, :-1]\n",
    "features = features.iloc[:, :-1]\n",
    "features = features.iloc[:, :-1]\n",
    "\n",
    "\n",
    "\n",
    "# Mean value imputation\n",
    "features=features.fillna(features.mean())\n",
    "\n",
    "# One Hot Encoding\n",
    "enc = OneHotEncoder()\n",
    "\n",
    "# Transform the dataset\n",
    "Category_transformed = enc.fit_transform(category_features)\n",
    "\n",
    "# Print the transformed dataset\n",
    "transformed_df = pd.DataFrame(Category_transformed.toarray(), columns=enc.get_feature_names_out(category_features.columns))\n",
    "\n",
    "result_df = pd.concat([features, transformed_df], axis=1)\n",
    "\n",
    "# Initialize RandomOverSampler\n",
    "oversampler = RandomOverSampler(random_state=42)\n",
    "\n",
    "# Perform random oversampling\n",
    "feature_resampled, label_resampled = oversampler.fit_resample(result_df, labels)\n",
    "\n",
    "\n",
    "# Quantile Tranformer\n",
    "transformer = QuantileTransformer()\n",
    "\n",
    "# Fit and transform the features\n",
    "transformed_feature = transformer.fit_transform(feature_resampled)\n",
    "\n",
    "ada_boost = AdaBoostClassifier(n_estimators=50, random_state=42)\n",
    "\n",
    "X_train, X_test, y_train, y_test = train_test_split(transformed_feature, label_resampled, test_size=0.2, random_state=42)\n",
    "\n",
    "ada_boost.fit(X_train,y_train) \n",
    "\n",
    "k = 10  # Number of folds\n",
    "cv_scores = cross_val_score(ada_boost, X_train, y_train, cv=k)\n",
    "print(cv_scores.mean())\n",
    "\n"
   ]
  }
 ],
 "metadata": {
  "kernelspec": {
   "display_name": "Python 3 (ipykernel)",
   "language": "python",
   "name": "python3"
  },
  "language_info": {
   "codemirror_mode": {
    "name": "ipython",
    "version": 3
   },
   "file_extension": ".py",
   "mimetype": "text/x-python",
   "name": "python",
   "nbconvert_exporter": "python",
   "pygments_lexer": "ipython3",
   "version": "3.8.2"
  }
 },
 "nbformat": 4,
 "nbformat_minor": 5
}
